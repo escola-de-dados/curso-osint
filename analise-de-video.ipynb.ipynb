{
  "nbformat": 4,
  "nbformat_minor": 0,
  "metadata": {
    "colab": {
      "provenance": []
    },
    "kernelspec": {
      "name": "python3",
      "display_name": "Python 3"
    },
    "language_info": {
      "name": "python"
    }
  },
  "cells": [
    {
      "cell_type": "code",
      "execution_count": null,
      "metadata": {
        "id": "TaZr5cJ4cP3V"
      },
      "outputs": [],
      "source": [
        "! add-apt-repository -y ppa:savoury1/ffmpeg4\n",
        "! apt-get -qq install -y ffmpeg\n",
        "! pip install yt-dlp"
      ]
    },
    {
      "cell_type": "code",
      "source": [
        "import os\n",
        "import subprocess\n",
        "import yt_dlp\n",
        "\n",
        "def baixar_video(url, saida='~/content/Videos'):\n",
        "    \"\"\"Baixa um vídeo do YouTube.\n",
        "\n",
        "    Args:\n",
        "        url (str): URL do vídeo do YouTube.\n",
        "        saida (str): Caminho do diretório onde o vídeo será salvo.\n",
        "    \"\"\"\n",
        "    parametros = {\n",
        "        'outtmpl': saida + '/%(id)s.%(ext)s',  # O nome do arquivo de saída\n",
        "        'format': 'bestvideo[ext=mp4]+bestaudio[ext=m4a]/best[ext=mp4]',  # Qualidade do vídeo\n",
        "    }\n",
        "\n",
        "    with yt_dlp.YoutubeDL(parametros) as ydl:\n",
        "        ydl.download([url])\n",
        "\n",
        "def extract_frames(video_path, frames_dir, frame_rate=5):\n",
        "    \"\"\"Extrai frames de um vídeo usando ffmpeg.\n",
        "\n",
        "    Args:\n",
        "        video_path (str): Caminho do vídeo.\n",
        "        frames_dir (str): Diretório para salvar frames extraídos.\n",
        "        frame_rate (str): Taxa de frames para extrair.\n",
        "    \"\"\"\n",
        "    if not os.path.exists(frames_dir):\n",
        "        os.makedirs(frames_dir)\n",
        "\n",
        "    extract_cmd = f\"ffmpeg -i {video_path} -vf fps=1/{frame_rate} {frames_dir}/%04d.jpg\"\n",
        "\n",
        "    try:\n",
        "        subprocess.check_output(extract_cmd, shell=True, stderr=subprocess.STDOUT)\n",
        "    except Exception as e:\n",
        "        print(f\"Erro ao extrair frames: {str(e)}\")\n"
      ],
      "metadata": {
        "id": "q0BUa9oUcXol"
      },
      "execution_count": null,
      "outputs": []
    },
    {
      "cell_type": "code",
      "source": [
        "cod_video='-Yy5q17x88o' #Troque pelo código do vídeo que você quer baixar e capturar os frames\n",
        "url_video = f'https://youtu.be/{cod_video}'\n",
        "caminho_video = f'/content/Videos/{cod_video}.mp4'\n",
        "caminho_frames = '/content/Imagens'\n",
        "\n",
        "baixar_video(url_video, saida='/content/Videos')\n",
        "extract_frames(caminho_video, caminho_frames)\n"
      ],
      "metadata": {
        "id": "uQEvmtppcumD",
        "colab": {
          "base_uri": "https://localhost:8080/"
        },
        "outputId": "ac36e7be-a0c9-4be0-8b19-3adff6ae76d5"
      },
      "execution_count": null,
      "outputs": [
        {
          "output_type": "stream",
          "name": "stdout",
          "text": [
            "[youtube] Extracting URL: https://youtu.be/wzNNuiLKRYs\n",
            "[youtube] wzNNuiLKRYs: Downloading webpage\n",
            "[youtube] wzNNuiLKRYs: Downloading ios player API JSON\n",
            "[youtube] wzNNuiLKRYs: Downloading android player API JSON\n",
            "[youtube] wzNNuiLKRYs: Downloading m3u8 information\n",
            "[info] wzNNuiLKRYs: Downloading 1 format(s): 614+140\n",
            "[download] /content/Videos/wzNNuiLKRYs.mp4 has already been downloaded\n"
          ]
        }
      ]
    },
    {
      "cell_type": "code",
      "source": [],
      "metadata": {
        "id": "0__oItc7g7k-"
      },
      "execution_count": null,
      "outputs": []
    }
  ]
}